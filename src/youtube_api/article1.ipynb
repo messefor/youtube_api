{
 "cells": [
  {
   "cell_type": "markdown",
   "metadata": {},
   "source": [
    "## APIのビルドと初期化"
   ]
  },
  {
   "cell_type": "code",
   "execution_count": 1,
   "metadata": {
    "ExecuteTime": {
     "end_time": "2020-10-04T02:37:55.634910Z",
     "start_time": "2020-10-04T02:37:55.054869Z"
    }
   },
   "outputs": [],
   "source": [
    "from googleapiclient.discovery import build\n",
    "\n",
    "# 利用するAPIサービス\n",
    "YOUTUBE_API_SERVICE_NAME = 'youtube'\n",
    "YOUTUBE_API_VERSION = 'v3'\n",
    "\n",
    "# APIキー\n",
    "YOUTUBE_API_KEY = 'your-api-key-here'\n",
    "\n",
    "# API のビルドと初期化\n",
    "youtube = build(YOUTUBE_API_SERVICE_NAME, YOUTUBE_API_VERSION,\n",
    "                developerKey=YOUTUBE_API_KEY)"
   ]
  },
  {
   "cell_type": "markdown",
   "metadata": {},
   "source": [
    "## 動画情報一覧を取得"
   ]
  },
  {
   "cell_type": "code",
   "execution_count": 4,
   "metadata": {
    "ExecuteTime": {
     "end_time": "2020-10-04T02:38:12.156547Z",
     "start_time": "2020-10-04T02:38:12.135404Z"
    }
   },
   "outputs": [],
   "source": [
    "from datetime import datetime, timedelta, timezone\n",
    "import pandas as pd\n",
    "\n",
    "        \n",
    "def get_video_list_in_channel(youtube, channel_id, max_req_cnt=2):\n",
    "    '''特定のチャンネルの動画情報を取得し、必要な動画情報を返す\n",
    "    \n",
    "        公開時刻が新しい順に50ずつリクエスト\n",
    "        デフォルトでは最大2リクエストで終了\n",
    "    '''\n",
    "\n",
    "    n_requested = 50\n",
    "\n",
    "    earliest_publishedtime =\\\n",
    "        datetime.now(tz=timezone.utc).strftime('%Y-%m-%dT%H:%M:%SZ')\n",
    "\n",
    "    req_cnt = 0\n",
    "    result = []\n",
    "    while True:\n",
    "        response = youtube.search().list(part='snippet',\n",
    "                                        channelId=channel_id,\n",
    "                                        order='date',\n",
    "                                        type='video',\n",
    "                                        publishedBefore=earliest_publishedtime,\n",
    "                                        maxResults=n_requested).execute()\n",
    "        req_cnt += 1\n",
    "        video_info = fetch_video_info(response)\n",
    "        result.append(video_info)\n",
    "        \n",
    "        # 取得動画の最も遅い公開日時の1秒前以前を次の動画一覧の取得条件とする\n",
    "        last_publishedtime = video_info['publishTime'].min()\n",
    "        last_publishedtime_next =\\\n",
    "            datetime.strptime(last_publishedtime, '%Y-%m-%dT%H:%M:%SZ') - timedelta(seconds=1)\n",
    "        \n",
    "        earliest_publishedtime = last_publishedtime_next.strftime('%Y-%m-%dT%H:%M:%SZ')\n",
    "\n",
    "        if req_cnt > max_req_cnt:\n",
    "            # リクエスト回数がmax_req_cntを超えたらループを抜ける\n",
    "            print('Result count exceeded max count {}.'.format(max_req_cnt))\n",
    "            break\n",
    "\n",
    "        if len(response['items']) < n_requested:\n",
    "            # リクエストした動画数より少ない数が返った場合はループを抜ける\n",
    "            print('Number of results are less than {}.'.format(n_requested))\n",
    "            break\n",
    "\n",
    "    if len(result) > 1:\n",
    "        df_video_list = pd.concat(result, axis=0).reset_index(drop=True)\n",
    "    else:\n",
    "        df_video_list = result[0]\n",
    "\n",
    "    return df_video_list\n",
    "\n",
    "\n",
    "def fetch_video_info(response, as_df=True):\n",
    "    '''APIのレスポンスから必要な動画情報を抜き出す'''\n",
    "    info_list = []\n",
    "    for item in response['items']:\n",
    "        info = {}\n",
    "        info['title'] = item['snippet']['title']\n",
    "        info['kind'] = item['id']['kind']\n",
    "        info['videoId'] = item['id']['videoId']\n",
    "        info['description'] = item['snippet']['description']\n",
    "        info['publishTime'] = item['snippet']['publishTime']\n",
    "        info['channelTitle'] = item['snippet']['channelTitle']\n",
    "        info['thumbnails_url'] = item['snippet']['thumbnails']['default']['url']\n",
    "        info_list.append(info)\n",
    "    if as_df:\n",
    "        return pd.DataFrame(info_list)\n",
    "    else:\n",
    "        info_list\n"
   ]
  },
  {
   "cell_type": "code",
   "execution_count": 5,
   "metadata": {
    "ExecuteTime": {
     "end_time": "2020-10-04T02:38:14.419756Z",
     "start_time": "2020-10-04T02:38:13.106432Z"
    }
   },
   "outputs": [
    {
     "name": "stdout",
     "output_type": "stream",
     "text": [
      "Result count exceeded max count 2.\n"
     ]
    }
   ],
   "source": [
    "# B-life channel ID\n",
    "channel_id = 'UCd0pUnH7i5CM-Y8xRe7cZVg'\n",
    "\n",
    "df_video_list = get_video_list_in_channel(youtube, channel_id)"
   ]
  },
  {
   "cell_type": "markdown",
   "metadata": {},
   "source": [
    "## 2. 動画の再生時間を取得し、フィルタをかける"
   ]
  },
  {
   "cell_type": "code",
   "execution_count": 6,
   "metadata": {
    "ExecuteTime": {
     "end_time": "2020-10-04T02:38:21.532006Z",
     "start_time": "2020-10-04T02:38:21.509120Z"
    }
   },
   "outputs": [],
   "source": [
    "import re\n",
    "import numpy as np\n",
    "\n",
    "def get_contents_detail_core(youtube, videoids):\n",
    "    '''動画の詳細情報を取得'''\n",
    "    part = ['snippet', 'contentDetails']\n",
    "    response = youtube.videos().list(part=part, id=videoids).execute()\n",
    "    results = []\n",
    "    for item in response['items']:\n",
    "        info = get_basicinfo(item)\n",
    "        info['duration'] = get_duration(item)\n",
    "        results.append(info)\n",
    "    return pd.DataFrame(results)\n",
    "\n",
    "\n",
    "def get_contents_detail(youtube, videoids):\n",
    "    '''必要に応じて50件ずつにIDを分割し、詳細情報を取得'''\n",
    "    n_req_pre_once = 50\n",
    "    \n",
    "    # IDの数が多い場合は50件ずつ動画IDのリストを作成\n",
    "    if len(videoids) > n_req_pre_once:\n",
    "        videoids_list = np.array_split(videoids, len(videoids) // n_req_pre_once + 1)\n",
    "    else:\n",
    "        videoids_list = [videoids,]\n",
    "\n",
    "    # 50件ずつ動画IDのリストを渡し、動画の詳細情報を取得\n",
    "    details_list = []\n",
    "    for vids in videoids_list:\n",
    "        df_video_details_part = get_contents_detail_core(youtube, vids.tolist())\n",
    "        details_list.append(df_video_details_part)\n",
    "\n",
    "    df_video_details = pd.concat(details_list, axis=0).reset_index(drop=True)\n",
    "    return df_video_details\n",
    "\n",
    "\n",
    "def get_duration(item):\n",
    "    '''動画時間を抜き出す（ISO表記を秒に変換）'''\n",
    "    content_details = item['contentDetails']\n",
    "    pt_time = content_details['duration']\n",
    "    return pt2sec(pt_time)\n",
    "\n",
    "\n",
    "def get_basicinfo(item):\n",
    "    '''動画の基本情報の抜き出し'''\n",
    "    basicinfo = dict(id=item['id'])\n",
    "    # snippets\n",
    "    keys = ('title', 'description', 'channelTitle')\n",
    "    snippets = {k: item['snippet'][k] for k in keys}\n",
    "    basicinfo.update(snippets)\n",
    "    return basicinfo\n",
    "\n",
    "\n",
    "def pt2sec(pt_time):\n",
    "    '''ISO表記の動画時間を秒に変換 '''\n",
    "    pttn_time = re.compile(r'PT(\\d+H)?(\\d+M)?(\\d+S)?')\n",
    "    keys = ['hours', 'minutes', 'seconds']\n",
    "    m = pttn_time.search(pt_time)\n",
    "    if m:\n",
    "        kwargs = {k: 0 if v is None else int(v[:-1])\n",
    "                    for k, v in zip(keys, m.groups())}\n",
    "        return timedelta(**kwargs).total_seconds()\n",
    "    else:\n",
    "        msg = '{} is not valid ISO time format.'.format(pt_time)\n",
    "        raise ValueError(msg)"
   ]
  },
  {
   "cell_type": "code",
   "execution_count": 7,
   "metadata": {
    "ExecuteTime": {
     "end_time": "2020-10-04T02:38:33.771996Z",
     "start_time": "2020-10-04T02:38:29.849075Z"
    },
    "scrolled": false
   },
   "outputs": [],
   "source": [
    "# 動画ID\n",
    "videoids = df_video_list['videoId'].values\n",
    "\n",
    "# 動画の詳細情報を取得\n",
    "df_video_details = get_contents_detail(youtube, videoids)\n"
   ]
  },
  {
   "cell_type": "code",
   "execution_count": 8,
   "metadata": {
    "ExecuteTime": {
     "end_time": "2020-10-04T02:38:35.838123Z",
     "start_time": "2020-10-04T02:38:35.751738Z"
    }
   },
   "outputs": [
    {
     "data": {
      "text/html": [
       "<div>\n",
       "<style scoped>\n",
       "    .dataframe tbody tr th:only-of-type {\n",
       "        vertical-align: middle;\n",
       "    }\n",
       "\n",
       "    .dataframe tbody tr th {\n",
       "        vertical-align: top;\n",
       "    }\n",
       "\n",
       "    .dataframe thead th {\n",
       "        text-align: right;\n",
       "    }\n",
       "</style>\n",
       "<table border=\"1\" class=\"dataframe\">\n",
       "  <thead>\n",
       "    <tr style=\"text-align: right;\">\n",
       "      <th></th>\n",
       "      <th>id</th>\n",
       "      <th>title</th>\n",
       "      <th>description</th>\n",
       "      <th>channelTitle</th>\n",
       "      <th>duration</th>\n",
       "    </tr>\n",
       "  </thead>\n",
       "  <tbody>\n",
       "    <tr>\n",
       "      <th>0</th>\n",
       "      <td>CeyKQAFoTsI</td>\n",
       "      <td>【魔法の呼吸法】 ストレス知らずの疲れない身体をつくるヨガ☆ #395</td>\n",
       "      <td>B-life書籍最新刊『魔法のピラティス』がいよいよ6月1日に発売決定！\\n\\n購入はこちら...</td>\n",
       "      <td>B-life</td>\n",
       "      <td>3950.0</td>\n",
       "    </tr>\n",
       "    <tr>\n",
       "      <th>1</th>\n",
       "      <td>lJlbbbk3H_U</td>\n",
       "      <td>【ゆるヨガ】 柔軟性ゼロから始める！ 体が硬い人のためのヨガ☆</td>\n",
       "      <td>B-life書籍最新刊『魔法のピラティス』がいよいよ6月1日に発売決定！\\n\\n購入はこちら...</td>\n",
       "      <td>B-life</td>\n",
       "      <td>1117.0</td>\n",
       "    </tr>\n",
       "    <tr>\n",
       "      <th>2</th>\n",
       "      <td>El-hcEUklR4</td>\n",
       "      <td>【毎日15分】 全身がほぐれるフローヨガ☆ 朝ヨガにもオススメ！ #393</td>\n",
       "      <td>B-life書籍最新刊『魔法のピラティス』がいよいよ6月1日に発売決定！\\n\\n購入はこちら...</td>\n",
       "      <td>B-life</td>\n",
       "      <td>951.0</td>\n",
       "    </tr>\n",
       "    <tr>\n",
       "      <th>3</th>\n",
       "      <td>9IzJohZneUQ</td>\n",
       "      <td>【滝汗HIIT】 全身の脂肪燃焼に効果的☆ 代謝＆免疫力アップ！#392</td>\n",
       "      <td>B-life書籍最新刊『魔法のピラティス』がいよいよ6月1日に発売決定！\\n\\n購入はこちら...</td>\n",
       "      <td>B-life</td>\n",
       "      <td>3693.0</td>\n",
       "    </tr>\n",
       "    <tr>\n",
       "      <th>4</th>\n",
       "      <td>cdQVhWP-ZXE</td>\n",
       "      <td>【ぐっすり安眠】 夜寝る前のヨガで自律神経を整えよう！ 初心者にもオススメ☆ #391</td>\n",
       "      <td>B-life書籍最新刊『魔法のピラティス』がいよいよ6月1日に発売決定！\\n\\n購入はこちら...</td>\n",
       "      <td>B-life</td>\n",
       "      <td>1017.0</td>\n",
       "    </tr>\n",
       "  </tbody>\n",
       "</table>\n",
       "</div>"
      ],
      "text/plain": [
       "            id                                        title  \\\n",
       "0  CeyKQAFoTsI          【魔法の呼吸法】 ストレス知らずの疲れない身体をつくるヨガ☆ #395   \n",
       "1  lJlbbbk3H_U              【ゆるヨガ】 柔軟性ゼロから始める！ 体が硬い人のためのヨガ☆   \n",
       "2  El-hcEUklR4        【毎日15分】 全身がほぐれるフローヨガ☆ 朝ヨガにもオススメ！ #393   \n",
       "3  9IzJohZneUQ         【滝汗HIIT】 全身の脂肪燃焼に効果的☆ 代謝＆免疫力アップ！#392   \n",
       "4  cdQVhWP-ZXE  【ぐっすり安眠】 夜寝る前のヨガで自律神経を整えよう！ 初心者にもオススメ☆ #391   \n",
       "\n",
       "                                         description channelTitle  duration  \n",
       "0  B-life書籍最新刊『魔法のピラティス』がいよいよ6月1日に発売決定！\\n\\n購入はこちら...       B-life    3950.0  \n",
       "1  B-life書籍最新刊『魔法のピラティス』がいよいよ6月1日に発売決定！\\n\\n購入はこちら...       B-life    1117.0  \n",
       "2  B-life書籍最新刊『魔法のピラティス』がいよいよ6月1日に発売決定！\\n\\n購入はこちら...       B-life     951.0  \n",
       "3  B-life書籍最新刊『魔法のピラティス』がいよいよ6月1日に発売決定！\\n\\n購入はこちら...       B-life    3693.0  \n",
       "4  B-life書籍最新刊『魔法のピラティス』がいよいよ6月1日に発売決定！\\n\\n購入はこちら...       B-life    1017.0  "
      ]
     },
     "execution_count": 8,
     "metadata": {},
     "output_type": "execute_result"
    }
   ],
   "source": [
    "df_video_details.head()"
   ]
  },
  {
   "cell_type": "code",
   "execution_count": 9,
   "metadata": {
    "ExecuteTime": {
     "end_time": "2020-10-04T02:38:38.960959Z",
     "start_time": "2020-10-04T02:38:38.929753Z"
    }
   },
   "outputs": [
    {
     "data": {
      "text/html": [
       "<div>\n",
       "<style scoped>\n",
       "    .dataframe tbody tr th:only-of-type {\n",
       "        vertical-align: middle;\n",
       "    }\n",
       "\n",
       "    .dataframe tbody tr th {\n",
       "        vertical-align: top;\n",
       "    }\n",
       "\n",
       "    .dataframe thead th {\n",
       "        text-align: right;\n",
       "    }\n",
       "</style>\n",
       "<table border=\"1\" class=\"dataframe\">\n",
       "  <thead>\n",
       "    <tr style=\"text-align: right;\">\n",
       "      <th></th>\n",
       "      <th>id</th>\n",
       "      <th>title</th>\n",
       "      <th>description</th>\n",
       "      <th>channelTitle</th>\n",
       "      <th>duration</th>\n",
       "    </tr>\n",
       "  </thead>\n",
       "  <tbody>\n",
       "    <tr>\n",
       "      <th>14</th>\n",
       "      <td>nZSe3ZZUSJw</td>\n",
       "      <td>【ベッドで朝ヨガ】 起きてすぐ！全身を心地よくほぐし１日を快適に☆ #381</td>\n",
       "      <td>B-life書籍最新刊『魔法のピラティス』がいよいよ6月1日に発売決定！\\n\\n購入はこちら...</td>\n",
       "      <td>B-life</td>\n",
       "      <td>867.0</td>\n",
       "    </tr>\n",
       "    <tr>\n",
       "      <th>32</th>\n",
       "      <td>EYqPH91q5nE</td>\n",
       "      <td>【毎日10分】 カラダが変わる！ ヨガで自律神経をセルフケア☆ #363</td>\n",
       "      <td>B-life書籍最新刊『魔法のピラティス』がいよいよ6月1日に発売決定！\\n\\n購入はこちら...</td>\n",
       "      <td>B-life</td>\n",
       "      <td>692.0</td>\n",
       "    </tr>\n",
       "    <tr>\n",
       "      <th>35</th>\n",
       "      <td>Zw_osQctQKs</td>\n",
       "      <td>骨盤のゆがみを整え、腰痛を緩和するヨガ☆ 初心者にオススメ！ #360</td>\n",
       "      <td>B-life書籍最新刊『魔法のピラティス』がいよいよ6月1日に発売決定！\\n\\nご予約はこち...</td>\n",
       "      <td>B-life</td>\n",
       "      <td>771.0</td>\n",
       "    </tr>\n",
       "    <tr>\n",
       "      <th>45</th>\n",
       "      <td>kBLCmz8pODg</td>\n",
       "      <td>【1日5分で美しく引き締まる】魔法の美尻トレーニング！ ＃350</td>\n",
       "      <td></td>\n",
       "      <td>B-life</td>\n",
       "      <td>690.0</td>\n",
       "    </tr>\n",
       "    <tr>\n",
       "      <th>46</th>\n",
       "      <td>IBt5l9Um_rY</td>\n",
       "      <td>【1日5分で美しく引き締まる】魔法の背中＆二の腕トレーニング！ ＃349</td>\n",
       "      <td>B-life書籍最新刊『魔法のピラティス』がいよいよ6月1日に発売決定！\\n\\nご予約はこち...</td>\n",
       "      <td>B-life</td>\n",
       "      <td>640.0</td>\n",
       "    </tr>\n",
       "  </tbody>\n",
       "</table>\n",
       "</div>"
      ],
      "text/plain": [
       "             id                                   title  \\\n",
       "14  nZSe3ZZUSJw  【ベッドで朝ヨガ】 起きてすぐ！全身を心地よくほぐし１日を快適に☆ #381   \n",
       "32  EYqPH91q5nE    【毎日10分】 カラダが変わる！ ヨガで自律神経をセルフケア☆ #363   \n",
       "35  Zw_osQctQKs     骨盤のゆがみを整え、腰痛を緩和するヨガ☆ 初心者にオススメ！ #360   \n",
       "45  kBLCmz8pODg        【1日5分で美しく引き締まる】魔法の美尻トレーニング！ ＃350   \n",
       "46  IBt5l9Um_rY    【1日5分で美しく引き締まる】魔法の背中＆二の腕トレーニング！ ＃349   \n",
       "\n",
       "                                          description channelTitle  duration  \n",
       "14  B-life書籍最新刊『魔法のピラティス』がいよいよ6月1日に発売決定！\\n\\n購入はこちら...       B-life     867.0  \n",
       "32  B-life書籍最新刊『魔法のピラティス』がいよいよ6月1日に発売決定！\\n\\n購入はこちら...       B-life     692.0  \n",
       "35  B-life書籍最新刊『魔法のピラティス』がいよいよ6月1日に発売決定！\\n\\nご予約はこち...       B-life     771.0  \n",
       "45                                                          B-life     690.0  \n",
       "46  B-life書籍最新刊『魔法のピラティス』がいよいよ6月1日に発売決定！\\n\\nご予約はこち...       B-life     640.0  "
      ]
     },
     "execution_count": 9,
     "metadata": {},
     "output_type": "execute_result"
    }
   ],
   "source": [
    "# 再生時間が10分以上、15分以下の動画に絞り込む\n",
    "lower_duration = 10 * 60  # 10分以上\n",
    "upper_duration = 15 * 60  # 15分以下\n",
    "is_match_cond = df_video_details['duration'].between(lower_duration, upper_duration)\n",
    "\n",
    "df_video_playlist = df_video_details.loc[is_match_cond, :]\n",
    "\n",
    "# 出力\n",
    "df_video_playlist.head()"
   ]
  },
  {
   "cell_type": "code",
   "execution_count": 10,
   "metadata": {
    "ExecuteTime": {
     "end_time": "2020-10-04T02:38:48.100355Z",
     "start_time": "2020-10-04T02:38:48.093259Z"
    }
   },
   "outputs": [
    {
     "data": {
      "text/plain": [
       "array(['nZSe3ZZUSJw', 'EYqPH91q5nE', 'Zw_osQctQKs', 'kBLCmz8pODg',\n",
       "       'IBt5l9Um_rY', 'WWxKW8ncPe0', 'CmWJJWKLeKg', 'e9HR7-3I3MA',\n",
       "       'dsHgUncnWTk', 'J0B27XRg9Ck', '2S8fSj5Ox6o', 'zv0mrCF3qJc',\n",
       "       '3DoZVZv2ioA', '4eD2IzDnyVc', 's7w6jLynl6c', 'd8h1oTP_0Gw',\n",
       "       'GamX-b6DASY', 'V3_ICKUlwl8', 'PNYyX1vSO98', 'WL-yCF3f6OQ',\n",
       "       'LTYhuOj0zfs', 'vSAtEErqDWY', 'F_vZ29OOa2M', 'MDMbpikr8oo',\n",
       "       'WrHXfbKpbKM', 'l_NmT5eJjjw', 'z_JVHxVT2W0', 'aETSHfGP1jo',\n",
       "       'FESpC1qN6-Y', 'U9mZS_GRmxQ', '1MC0xl3y4yU', 'QcqWYaMNvGY',\n",
       "       '-1M4wiFSaDQ'], dtype=object)"
      ]
     },
     "execution_count": 10,
     "metadata": {},
     "output_type": "execute_result"
    }
   ],
   "source": [
    "df_video_playlist['id'].values"
   ]
  },
  {
   "cell_type": "code",
   "execution_count": null,
   "metadata": {},
   "outputs": [],
   "source": []
  }
 ],
 "metadata": {
  "hide_input": false,
  "kernelspec": {
   "display_name": "Python 3",
   "language": "python",
   "name": "python3"
  },
  "language_info": {
   "codemirror_mode": {
    "name": "ipython",
    "version": 3
   },
   "file_extension": ".py",
   "mimetype": "text/x-python",
   "name": "python",
   "nbconvert_exporter": "python",
   "pygments_lexer": "ipython3",
   "version": "3.7.0"
  },
  "toc": {
   "base_numbering": 1,
   "nav_menu": {},
   "number_sections": true,
   "sideBar": true,
   "skip_h1_title": false,
   "title_cell": "Table of Contents",
   "title_sidebar": "Contents",
   "toc_cell": false,
   "toc_position": {},
   "toc_section_display": true,
   "toc_window_display": false
  }
 },
 "nbformat": 4,
 "nbformat_minor": 4
}
