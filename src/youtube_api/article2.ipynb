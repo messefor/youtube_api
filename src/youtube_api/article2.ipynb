{
 "cells": [
  {
   "cell_type": "markdown",
   "metadata": {},
   "source": [
    "## 認証とAPIのビルドと初期化"
   ]
  },
  {
   "cell_type": "code",
   "execution_count": 1,
   "metadata": {
    "ExecuteTime": {
     "end_time": "2020-10-04T02:50:18.277487Z",
     "start_time": "2020-10-04T02:50:17.873984Z"
    }
   },
   "outputs": [],
   "source": [
    "import os\n",
    "import pickle\n",
    "\n",
    "from googleapiclient.discovery import build\n",
    "from google_auth_oauthlib.flow import InstalledAppFlow\n",
    "from google.auth.transport.requests import Request"
   ]
  },
  {
   "cell_type": "code",
   "execution_count": 2,
   "metadata": {
    "ExecuteTime": {
     "end_time": "2020-10-04T02:50:18.291718Z",
     "start_time": "2020-10-04T02:50:18.281019Z"
    }
   },
   "outputs": [],
   "source": [
    "def get_credentials(client_secret_file, scopes,\n",
    "                    token_storage_pkl='token.pickle'):\n",
    "    '''google_auth_oauthlibを利用してOAuth2認証\n",
    "\n",
    "        下記URLのコードをほぼそのまま利用。Apache 2.0\n",
    "        https://developers.google.com/drive/api/v3/quickstart/python#step_1_turn_on_the_api_name\n",
    "    '''\n",
    "    creds = None\n",
    "    # token.pickleファイルにユーザのアクセス情報とトークンが保存される\n",
    "    # ファイルは初回の認証フローで自動的に作成される\n",
    "    if os.path.exists(token_storage_pkl):\n",
    "        with open(token_storage_pkl, 'rb') as token:\n",
    "            creds = pickle.load(token)\n",
    "            \n",
    "    # 有効なクレデンシャルがなければ、ユーザーにログインしてもらう\n",
    "    if not creds or not creds.valid:\n",
    "        if creds and creds.expired and creds.refresh_token:\n",
    "            creds.refresh(Request())\n",
    "        else:\n",
    "            flow = InstalledAppFlow.from_client_secrets_file(\n",
    "                client_secret_file, scopes=scopes)\n",
    "            creds = flow.run_local_server(port=0)\n",
    "            \n",
    "        # クレデンシャルを保存（次回以降の認証のため）\n",
    "        with open(token_storage_pkl, 'wb') as token:\n",
    "            pickle.dump(creds, token)\n",
    "\n",
    "    return creds"
   ]
  },
  {
   "cell_type": "code",
   "execution_count": 3,
   "metadata": {
    "ExecuteTime": {
     "end_time": "2020-10-04T02:50:18.610462Z",
     "start_time": "2020-10-04T02:50:18.302331Z"
    }
   },
   "outputs": [],
   "source": [
    "'''OAuth認証とAPIのビルド実行'''\n",
    "\n",
    "# 利用するAPIサービス\n",
    "YOUTUBE_API_SERVICE_NAME = 'youtube'\n",
    "YOUTUBE_API_VERSION = 'v3'\n",
    "\n",
    "# OAuthのスコープとクレデンシャルファイル\n",
    "YOUTUBE_READ_WRITE_SCOPE = 'https://www.googleapis.com/auth/youtube'\n",
    "CLIENT_SECRET_FILE = 'config/client_secret.json'\n",
    "\n",
    "# OAuth認証：クレデンシャルを作成\n",
    "creds = get_credentials(\n",
    "                    client_secret_file=CLIENT_SECRET_FILE,\n",
    "                    scopes=YOUTUBE_READ_WRITE_SCOPE\n",
    "                    )\n",
    "\n",
    "# API のビルドと初期化\n",
    "youtube_auth = build(YOUTUBE_API_SERVICE_NAME, YOUTUBE_API_VERSION,\n",
    "                    credentials=creds)\n"
   ]
  },
  {
   "cell_type": "markdown",
   "metadata": {},
   "source": [
    "## プレイリスト作成"
   ]
  },
  {
   "cell_type": "code",
   "execution_count": 4,
   "metadata": {
    "ExecuteTime": {
     "end_time": "2020-10-04T02:50:19.521244Z",
     "start_time": "2020-10-04T02:50:18.615343Z"
    }
   },
   "outputs": [],
   "source": [
    "'''新規再生リストの作成'''\n",
    "\n",
    "title = 'B-life Test 10分〜15分'\n",
    "description = '再生時間が10分〜15分の動画のプレイリスト'\n",
    "privacy_status = 'public'\n",
    "\n",
    "# 新規プレイリストを追加\n",
    "# https://developers.google.com/youtube/v3/docs/playlists/insert\n",
    "playlists_insert_response = youtube_auth.playlists().insert(\n",
    "  part=\"snippet, status\",\n",
    "  body=dict(\n",
    "    snippet=dict(\n",
    "      title=title,\n",
    "      description=description\n",
    "    ),\n",
    "    status=dict(\n",
    "      privacyStatus=privacy_status\n",
    "    )\n",
    "  )\n",
    ").execute()\n"
   ]
  },
  {
   "cell_type": "code",
   "execution_count": 5,
   "metadata": {
    "ExecuteTime": {
     "end_time": "2020-10-04T02:50:23.923402Z",
     "start_time": "2020-10-04T02:50:19.526508Z"
    }
   },
   "outputs": [],
   "source": [
    "'''再生リストへの動画の追加 '''\n",
    "\n",
    "# 動画ID\n",
    "# videoids = df_video_playlist['id'].values\n",
    "\n",
    "videoids = ['nZSe3ZZUSJw', 'EYqPH91q5nE', 'Zw_osQctQKs', 'kBLCmz8pODg',\n",
    "                     'IBt5l9Um_rY', 'WWxKW8ncPe0', 'CmWJJWKLeKg', 'e9HR7-3I3MA',]\n",
    "\n",
    "# プレイリストに動画を追加\n",
    "# https://stackoverflow.com/questions/20650415/insert-video-into-a-playlist-with-youtube-api-v3/22190766\n",
    "\n",
    "playlistid = playlists_insert_response['id']  # 作成した再生リストのIDを取得\n",
    "\n",
    "# 動画IDをループ\n",
    "for videoid in videoids:\n",
    "  \n",
    "    resourceid = dict(kind='youtube#video',\n",
    "                      videoId=videoid)\n",
    "\n",
    "    response = youtube_auth.playlistItems().insert(\n",
    "                part='snippet',\n",
    "                  body=dict(\n",
    "                    snippet=dict(\n",
    "                      playlistId=playlistid,\n",
    "                      resourceId=resourceid\n",
    "                      )\n",
    "                   )\n",
    "            ).execute()"
   ]
  },
  {
   "cell_type": "code",
   "execution_count": null,
   "metadata": {},
   "outputs": [],
   "source": []
  }
 ],
 "metadata": {
  "hide_input": false,
  "kernelspec": {
   "display_name": "Python 3",
   "language": "python",
   "name": "python3"
  },
  "language_info": {
   "codemirror_mode": {
    "name": "ipython",
    "version": 3
   },
   "file_extension": ".py",
   "mimetype": "text/x-python",
   "name": "python",
   "nbconvert_exporter": "python",
   "pygments_lexer": "ipython3",
   "version": "3.7.0"
  },
  "toc": {
   "base_numbering": 1,
   "nav_menu": {},
   "number_sections": true,
   "sideBar": true,
   "skip_h1_title": false,
   "title_cell": "Table of Contents",
   "title_sidebar": "Contents",
   "toc_cell": false,
   "toc_position": {},
   "toc_section_display": true,
   "toc_window_display": false
  }
 },
 "nbformat": 4,
 "nbformat_minor": 4
}
