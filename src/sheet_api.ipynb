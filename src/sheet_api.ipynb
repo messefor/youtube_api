{
 "cells": [
  {
   "cell_type": "code",
   "execution_count": 9,
   "metadata": {
    "ExecuteTime": {
     "end_time": "2020-10-07T11:59:20.231794Z",
     "start_time": "2020-10-07T11:59:18.896249Z"
    }
   },
   "outputs": [],
   "source": [
    "from googleapiclient.discovery import build\n",
    "from google.oauth2 import service_account\n",
    "\n",
    "CREDENTIAL_FILE = 'config/youtube-data-api-291411-7aa5797d4450.json'\n",
    "credentials =\\\n",
    "  service_account.Credentials.from_service_account_file(CREDENTIAL_FILE)\n",
    "\n",
    "\n",
    "SAMPLE_SPREADSHEET_ID = '1CL0pg_LDpASaHQqagDxBDKonmD64NRS6CQnpAbVDjhs'\n",
    "SAMPLE_RANGE_NAME = 'Sheet1!A1:B4'\n",
    "\n",
    "service = build('sheets', 'v4', credentials=credentials)\n",
    "sheet = service.spreadsheets()\n",
    "\n",
    "result = sheet.values().get(spreadsheetId=SAMPLE_SPREADSHEET_ID,\n",
    "                            range=SAMPLE_RANGE_NAME).execute()\n",
    "values = result.get('values')"
   ]
  },
  {
   "cell_type": "code",
   "execution_count": 10,
   "metadata": {
    "ExecuteTime": {
     "end_time": "2020-10-07T11:59:20.906790Z",
     "start_time": "2020-10-07T11:59:20.900647Z"
    }
   },
   "outputs": [
    {
     "data": {
      "text/plain": [
       "[['1', 'あ'], ['2', 'い'], ['3', 'う']]"
      ]
     },
     "execution_count": 10,
     "metadata": {},
     "output_type": "execute_result"
    }
   ],
   "source": [
    "values"
   ]
  },
  {
   "cell_type": "code",
   "execution_count": null,
   "metadata": {},
   "outputs": [],
   "source": []
  }
 ],
 "metadata": {
  "hide_input": false,
  "kernelspec": {
   "display_name": "Python 3",
   "language": "python",
   "name": "python3"
  },
  "language_info": {
   "codemirror_mode": {
    "name": "ipython",
    "version": 3
   },
   "file_extension": ".py",
   "mimetype": "text/x-python",
   "name": "python",
   "nbconvert_exporter": "python",
   "pygments_lexer": "ipython3",
   "version": "3.7.0"
  },
  "toc": {
   "base_numbering": 1,
   "nav_menu": {},
   "number_sections": true,
   "sideBar": true,
   "skip_h1_title": false,
   "title_cell": "Table of Contents",
   "title_sidebar": "Contents",
   "toc_cell": false,
   "toc_position": {},
   "toc_section_display": true,
   "toc_window_display": false
  }
 },
 "nbformat": 4,
 "nbformat_minor": 4
}
